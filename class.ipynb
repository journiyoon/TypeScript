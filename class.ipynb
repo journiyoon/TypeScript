{
 "cells": [
  {
   "cell_type": "markdown",
   "metadata": {},
   "source": [
    "# Class"
   ]
  },
  {
   "cell_type": "code",
   "execution_count": null,
   "metadata": {},
   "outputs": [],
   "source": [
    "class Player {\n",
    "  constructor(\n",
    "    private firstName:string,\n",
    "    private lastName:string,\n",
    "    public nickname:string\n",
    "  ) {}\n",
    "}\n",
    "\n",
    "const jay = new Player(\"jay\", \"yoon\", \"제이\");\n",
    "\n",
    "jay.nickname // Accessible, public property\n",
    "jay.firstName // Not accessible, private property"
   ]
  },
  {
   "cell_type": "markdown",
   "metadata": {},
   "source": [
    "# Abstract Class\n",
    "다른 클래스가 상속받을 수 있는 클래스를 말한다.  \n",
    "직접 인스턴스를 생성할 수는 없고 상속받아 사용하는 것만 가능하다."
   ]
  },
  {
   "cell_type": "code",
   "execution_count": null,
   "metadata": {},
   "outputs": [],
   "source": [
    "abstract class User {\n",
    "  constructor(\n",
    "    private firstName:string,\n",
    "    private lastName:string,\n",
    "    public nickname:string\n",
    "  ) {}\n",
    "  getFullName() {\n",
    "    return `${this.firstName} ${this.lastName}`\n",
    "  }\n",
    "}\n",
    "\n",
    "class Player extends User {\n",
    "  \n",
    "}\n",
    "\n",
    "const jay = new Player(\"jay\", \"yoon\", \"제이\");\n",
    "jay.getFullName();"
   ]
  },
  {
   "cell_type": "markdown",
   "metadata": {},
   "source": [
    "# Abstract Method\n",
    "추상 클래스를 상속받은 클래스가 구현해야 하는 메소드를 말한다.  \n",
    "**주의:** 클래스를 상속해도 접근 제한자에 따라 접근 여부가 달라진다. `private`은 하위 클래스에서 접근이 불가능하며 `protected`로 선언된 경우에 접근이 가능하다.  "
   ]
  },
  {
   "cell_type": "markdown",
   "metadata": {},
   "source": [
    "\n",
    "| 접근 가능성      | public | protected | private |\n",
    "| ------------------ | -------- | ----------- | --------- |\n",
    "| 클래스 내부      | ◯     | ◯        | ◯      |\n",
    "| 자식 클래스 내부 | ◯     | ◯        | ✕      |\n",
    "| 클래스 인스턴스  | ◯     | ✕        | ✕      |"
   ]
  },
  {
   "cell_type": "code",
   "execution_count": null,
   "metadata": {},
   "outputs": [],
   "source": [
    "abstract class User {\n",
    "  constructor(\n",
    "    private firstName:string,\n",
    "    private lastName:string,\n",
    "    protected nickname:string\n",
    "  ) {}\n",
    "  abstract getNickName():void\n",
    "  getFullName() {\n",
    "    return `${this.firstName} ${this.lastName}`\n",
    "  }\n",
    "}\n",
    "\n",
    "class Player extends User {\n",
    "  getNickName() {\n",
    "      return this.nickname;\n",
    "  }\n",
    "}\n",
    "\n",
    "const jay = new Player(\"jay\", \"yoon\", \"제이\");\n",
    "jay.getFullName();\n",
    "\n",
    "jay.nickname // Accessible, protected property is accessible within class 'User' and its subclasses"
   ]
  }
 ],
 "metadata": {
  "kernelspec": {
   "display_name": "Typescript 4.8",
   "language": "typescript",
   "name": "typescript"
  },
  "language_info": {
   "name": "typescript"
  },
  "orig_nbformat": 4
 },
 "nbformat": 4,
 "nbformat_minor": 2
}
