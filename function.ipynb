{
 "cells": [
  {
   "cell_type": "markdown",
   "metadata": {},
   "source": [
    "# Call Signatures\n",
    "Call Signature란 함수명에 커서를 올렸을 때 보여지는 파라미터, 리턴 타입의 정보를 말한다.  \n",
    "Call Signature를 사용하면 함수를 사용하기 전에 타입을 미리 지정해줄 수 있고 타입 지정과 함수 구현을 분리해서 작성할 수 있다."
   ]
  },
  {
   "cell_type": "code",
   "execution_count": null,
   "metadata": {},
   "outputs": [],
   "source": [
    "// General Way \n",
    "const addFlat = (a:number, b:number) => {\n",
    "  return a + b;\n",
    "}\n",
    "// Using Call Signatures\n",
    "type Add = (a:number, b:number) => number;\n",
    "\n",
    "const addCall:Add = (a, b) => a + b"
   ]
  },
  {
   "cell_type": "markdown",
   "metadata": {},
   "source": [
    "# Overloading\n",
    "함수가 여러개의 Call Signatures를 가지고 있을 때 발생한다."
   ]
  },
  {
   "cell_type": "code",
   "execution_count": null,
   "metadata": {},
   "outputs": [],
   "source": [
    "type Substract = {\n",
    "  (a:number, b:number): number\n",
    "  (a:number, b:string): number\n",
    "}\n",
    "\n",
    "const substract: Substract = (a, b) => {\n",
    "  if(typeof b === \"string\") return a\n",
    "  return a - b\n",
    "}"
   ]
  },
  {
   "cell_type": "markdown",
   "metadata": {},
   "source": [
    "## Overloading Example in Next.js\n",
    "\n",
    "```js\n",
    "Router.push({\n",
    "  path: \"/home\",\n",
    "  state: 1\n",
    "})\n",
    "\n",
    "Router.push(\"/home\")\n",
    "```"
   ]
  },
  {
   "cell_type": "code",
   "execution_count": null,
   "metadata": {},
   "outputs": [],
   "source": [
    "type Config = {\n",
    "  path: string,\n",
    "  state: object\n",
    "}\n",
    "\n",
    "type Push = {\n",
    "  (path: string): void\n",
    "  (config: Config): void\n",
    "}\n",
    "\n",
    "const push: Push = (config) => {\n",
    "  if(typeof config === \"string\") {\n",
    "    console.log(config)\n",
    "  } else {\n",
    "    console.log(config.path)\n",
    "  }\n",
    "}"
   ]
  },
  {
   "cell_type": "code",
   "execution_count": null,
   "metadata": {},
   "outputs": [],
   "source": [
    "type Add = {\n",
    "  (a:number, b:number): number,\n",
    "  (a:number, b:number, c:number): number,\n",
    "}\n",
    "\n",
    "const add:Add = (a, b, c?:number) => {\n",
    "  if(c) return a + b + c\n",
    "  return a + b\n",
    "}"
   ]
  },
  {
   "cell_type": "markdown",
   "metadata": {},
   "source": [
    "# Generic\n",
    "클래스 또는 함수에서 사용할 타입(Type)을, 그 클래스나 함수를 사용할 때 결정하는 프로그래밍 기법이다."
   ]
  },
  {
   "cell_type": "code",
   "execution_count": null,
   "metadata": {},
   "outputs": [],
   "source": [
    "type SuperPrint = {\n",
    "  <T, V>(a:T[], b:V):T|V\n",
    "}\n",
    "\n",
    "const superPrint:SuperPrint = (arr) => arr[0]\n",
    "\n",
    "const d = superPrint([1,2,3,4,false],\"a\")\n",
    "const b = superPrint([true, \"a\"], [])"
   ]
  }
 ],
 "metadata": {
  "kernelspec": {
   "display_name": "Typescript 4.8",
   "language": "typescript",
   "name": "typescript"
  },
  "language_info": {
   "name": "typescript"
  },
  "orig_nbformat": 4
 },
 "nbformat": 4,
 "nbformat_minor": 2
}
