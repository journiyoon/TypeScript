{
 "cells": [
  {
   "cell_type": "markdown",
   "metadata": {},
   "source": [
    "# Interface\n",
    "타입스크립트에서 Object의 모양을 설명해주는 목적으로 사용된다.  \n",
    "JavaScript로 컴파일 될 때 interface 코드는 컴파일 되지 않아 전체 코드 길이가 줄어든다.   \n",
    "interface를 상속하면 private property를 사용하지 못한다. public을 꼭 붙여야 한다.  \n",
    "class에서는 붙이지 않으면 자동으로 public으로 인식했던 것 같은데..?  \n",
    "type과 차이점: 기존에 존재하는 interface에 새로운 필드를 추가하는 방식의 차이  \n",
    "type은 Object 뿐만아니라 특정 값을 지정하거나 특정 타입을 지정하는데도 사용된다.  "
   ]
  },
  {
   "cell_type": "code",
   "execution_count": null,
   "metadata": {},
   "outputs": [],
   "source": [
    "type Team = \"a\" | \"b\" | \"c\"\n",
    "\n",
    "type Person1 = {\n",
    "  name: string,\n",
    "  team: Team\n",
    "}\n",
    "\n",
    "interface Person2 {\n",
    "  name: string,\n",
    "  team: Team\n",
    "}\n",
    "\n",
    "const someone1: Person1 = {\n",
    "  name: \"jay\",\n",
    "  team: \"a\"\n",
    "}\n",
    "\n",
    "const someone2: Person2 = {\n",
    "  name: \"jay\",\n",
    "  team: \"a\"\n",
    "}"
   ]
  },
  {
   "cell_type": "code",
   "execution_count": null,
   "metadata": {},
   "outputs": [],
   "source": [
    "type User1 = {\n",
    "  name: string\n",
    "}\n",
    "\n",
    "type Player1 = User1 & {\n",
    "\n",
    "}\n",
    "\n",
    "const jay1: Player1 = {\n",
    "  name: \"jay\"\n",
    "}"
   ]
  },
  {
   "cell_type": "code",
   "execution_count": null,
   "metadata": {},
   "outputs": [],
   "source": [
    "interface User2 {\n",
    "  name: string\n",
    "}\n",
    "interface User2 {\n",
    "  lastName: string\n",
    "}\n",
    "interface Player2 extends User2 {\n",
    "\n",
    "}\n",
    "\n",
    "const jay2: Player2 = {\n",
    "  name: \"jay\",\n",
    "  lastName: \"yoon\"\n",
    "}"
   ]
  },
  {
   "cell_type": "code",
   "execution_count": null,
   "metadata": {},
   "outputs": [],
   "source": [
    "interface User {\n",
    "  firstName: string,\n",
    "  lastName: string\n",
    "  sayHi(name: string): string\n",
    "  fullName(): string\n",
    "}\n",
    "interface Human {\n",
    "  health: number\n",
    "}\n",
    "class Player3 implements User, Human {\n",
    "  constructor(\n",
    "    public firstName: string,\n",
    "    public lastName: string,\n",
    "    public health: number\n",
    "\n",
    "  ) {}\n",
    "  fullName() {\n",
    "    return `${this.firstName} ${this.lastName}`\n",
    "  }\n",
    "  sayHi(name: string): string {\n",
    "    return `Hello ${name}. My name is ${this.fullName}`\n",
    "  }\n",
    "}"
   ]
  }
 ],
 "metadata": {
  "kernelspec": {
   "display_name": "Typescript 4.8",
   "language": "typescript",
   "name": "typescript"
  },
  "language_info": {
   "name": "typescript",
   "version": "3.10.6"
  },
  "orig_nbformat": 4,
  "vscode": {
   "interpreter": {
    "hash": "7e1998ff7f8aa20ada591c520b972326324e5ea05489af9e422744c7c09f6dad"
   }
  }
 },
 "nbformat": 4,
 "nbformat_minor": 2
}
