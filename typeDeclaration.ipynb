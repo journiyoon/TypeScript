{
 "cells": [
  {
   "cell_type": "markdown",
   "metadata": {},
   "source": [
    "# Optional Parameter\n",
    "Object 속성 중 `age` 속성이 optional이라면 변수 타입 지정 시 `?`를 추가해 선택적 변수로 지정할 수 있다.  "
   ]
  },
  {
   "cell_type": "code",
   "execution_count": null,
   "metadata": {},
   "outputs": [],
   "source": [
    "const player: { name: string; age?: number } = {\n",
    "  name: \"jiyeon\",\n",
    "};\n",
    "\n",
    "if(player.age < 10) {} // Not Available. player.age may be 'undefined'\n",
    "if (player.age && player.age < 10) {} // Available"
   ]
  },
  {
   "cell_type": "markdown",
   "metadata": {},
   "source": [
    "# Alias"
   ]
  },
  {
   "cell_type": "code",
   "execution_count": null,
   "metadata": {},
   "outputs": [],
   "source": [
    "type Player = {\n",
    "  name: string,\n",
    "  age?: number\n",
    "}\n",
    "\n",
    "const Jay : Player = {\n",
    "  name: \"jay\"\n",
    "}\n",
    "\n",
    "const Journi : Player = {\n",
    "  name: \"journi\",\n",
    "  age: 18\n",
    "}"
   ]
  },
  {
   "cell_type": "markdown",
   "metadata": {},
   "source": [
    "# Function return type"
   ]
  },
  {
   "cell_type": "code",
   "execution_count": null,
   "metadata": {},
   "outputs": [],
   "source": [
    "type Player = {\n",
    "  name: string,\n",
    "  age?: number\n",
    "}\n",
    "\n",
    "function playerMaker(name:string) : Player {\n",
    "  return {\n",
    "    name: name\n",
    "  }\n",
    "}\n",
    "\n",
    "const jay = playerMaker(\"jay\")\n",
    "jay.age = 12; // Not available if function don't have return type"
   ]
  },
  {
   "cell_type": "markdown",
   "metadata": {},
   "source": [
    "# Arrow Function"
   ]
  },
  {
   "cell_type": "code",
   "execution_count": null,
   "metadata": {},
   "outputs": [],
   "source": [
    "const playerMaker = (name:string) : Player => ({name})"
   ]
  }
 ],
 "metadata": {
  "kernelspec": {
   "display_name": "Typescript 4.8",
   "language": "typescript",
   "name": "typescript"
  },
  "language_info": {
   "file_extension": ".ts",
   "mimetype": "application/x-typescript",
   "name": "typescript",
   "version": "4.8.2"
  },
  "orig_nbformat": 4
 },
 "nbformat": 4,
 "nbformat_minor": 2
}
