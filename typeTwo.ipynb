{
 "cells": [
  {
   "cell_type": "markdown",
   "metadata": {},
   "source": [
    "# ReadOnly"
   ]
  },
  {
   "cell_type": "code",
   "execution_count": null,
   "metadata": {},
   "outputs": [],
   "source": [
    "type Player = {\n",
    "  readonly name: string,\n",
    "  age?: number\n",
    "}\n",
    "\n",
    "const playerMaker = (name:string) : Player => ({name})\n",
    "const jay = playerMaker(\"jay\")\n",
    "jay.age = 18\n",
    "jay.name = \"lulu\" // Not available. name is read-only property."
   ]
  },
  {
   "cell_type": "code",
   "execution_count": null,
   "metadata": {},
   "outputs": [],
   "source": [
    "const numbers : readonly number[] = [1,2,3,4]\n",
    "numbers.push(5) // Not available. numbers is readonly."
   ]
  },
  {
   "cell_type": "markdown",
   "metadata": {},
   "source": [
    "# Tuple"
   ]
  },
  {
   "cell_type": "code",
   "execution_count": null,
   "metadata": {},
   "outputs": [],
   "source": [
    "const player: [string, number, boolean] = [\"jay\", 18, true]\n",
    "player[0] = 19 // Not available. player[0] type is string"
   ]
  },
  {
   "cell_type": "markdown",
   "metadata": {},
   "source": [
    "# Unknown"
   ]
  },
  {
   "cell_type": "code",
   "execution_count": null,
   "metadata": {},
   "outputs": [],
   "source": [
    "let a : unknown;\n",
    "\n",
    "if (typeof a === \"number\") {\n",
    "  let b = a + 1\n",
    "}\n",
    "if (typeof a === \"string\") {\n",
    "  let b = a.toUpperCase();\n",
    "}"
   ]
  },
  {
   "cell_type": "markdown",
   "metadata": {},
   "source": [
    "# Void\n",
    "값을 반환하지 않는 함수의 반환 값을 나타낸다.  \n",
    "JavaScript에서 값을 반환하지 않는 함수는 암시적으로 undefined를 반환하는데 void와 undefined는 같은 것이 아니다."
   ]
  },
  {
   "cell_type": "code",
   "execution_count": null,
   "metadata": {},
   "outputs": [],
   "source": [
    "function hell0() {\n",
    "  return;\n",
    "}"
   ]
  },
  {
   "cell_type": "markdown",
   "metadata": {},
   "source": [
    "# Never\n",
    "함수의 리턴 타입으로 사용된다. 함수의 리턴 타입으로 사용될 때는 항상 오류를 출력하거나 리턴 값을 절대로 내보내지 않음을 의미한다."
   ]
  },
  {
   "cell_type": "code",
   "execution_count": null,
   "metadata": {},
   "outputs": [],
   "source": [
    "function invalid(message: string) : never {\n",
    "  throw new Error(message);\n",
    "}"
   ]
  },
  {
   "cell_type": "markdown",
   "metadata": {},
   "source": [
    "never 유형이 없다면 오류가 발생한다.  \n",
    "모든 코드 경로가 값을 반환하지 않기 때문이다.  \n",
    "가령, x가 undefined인 경우를 생각해줘야 한다.  \n",
    "fail함수를 통해 never를 반환한다는 것을 이해하기 때문에 \n",
    "철저한 검사를 위해 사용할 수 있다."
   ]
  },
  {
   "cell_type": "code",
   "execution_count": null,
   "metadata": {},
   "outputs": [],
   "source": [
    "function foo(x: string | number) : boolean {\n",
    "  if(x===\"string\") {\n",
    "    return true;\n",
    "  } else if (x === \"number\") {\n",
    "    return false;\n",
    "  }\n",
    "  return fail(\"Unexhastive!\");\n",
    "}\n",
    "\n",
    "function fail(message:string) : never {\n",
    "  throw new Error(message);\n",
    "}"
   ]
  }
 ],
 "metadata": {
  "kernelspec": {
   "display_name": "Typescript 4.8",
   "language": "typescript",
   "name": "typescript"
  },
  "language_info": {
   "name": "typescript"
  },
  "orig_nbformat": 4
 },
 "nbformat": 4,
 "nbformat_minor": 2
}
